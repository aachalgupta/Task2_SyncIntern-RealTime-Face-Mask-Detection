{
 "cells": [
  {
   "cell_type": "code",
   "execution_count": 1,
   "metadata": {
    "colab": {
     "base_uri": "https://localhost:8080/"
    },
    "id": "hyHenFLuylca",
    "outputId": "ce0af761-1e95-4755-c8a5-eb425d3e4e40"
   },
   "outputs": [
    {
     "name": "stdout",
     "output_type": "stream",
     "text": [
      "2.11.0\n"
     ]
    }
   ],
   "source": [
    "# Import the necessary packages\n",
    "from tensorflow.keras.models import Sequential\n",
    "from tensorflow.keras.layers import Conv2D\n",
    "from tensorflow.keras.layers import MaxPooling2D\n",
    "from tensorflow.keras.layers import Activation\n",
    "from tensorflow.keras.layers import Flatten\n",
    "from tensorflow.keras.layers import Dense\n",
    "from tensorflow.keras.layers import Dropout\n",
    "from tensorflow.keras.callbacks import ModelCheckpoint\n",
    "\n",
    "from tensorflow.keras.optimizers import Adam\n",
    "from tensorflow.keras.utils import to_categorical\n",
    "from tensorflow.keras.models import load_model\n",
    "\n",
    "from sklearn.model_selection import train_test_split\n",
    "\n",
    "from imutils import paths\n",
    "import matplotlib.pyplot as plt\n",
    "import numpy as np\n",
    "import argparse\n",
    "import cv2\n",
    "import os\n",
    "\n",
    "import tensorflow as tf\n",
    "print(tf.__version__)\n",
    "\n",
    "import warnings\n",
    "warnings.filterwarnings(\"ignore\")"
   ]
  },
  {
   "cell_type": "markdown",
   "metadata": {
    "id": "leeWAjLkylch"
   },
   "source": [
    "# Load data files"
   ]
  },
  {
   "cell_type": "code",
   "execution_count": 2,
   "metadata": {
    "id": "JI1L87zi002e"
   },
   "outputs": [],
   "source": [
    "data_path = r\"C:\\Users\\Admin\\Downloads\\task_2\\dataset\""
   ]
  },
  {
   "cell_type": "code",
   "execution_count": 3,
   "metadata": {
    "colab": {
     "base_uri": "https://localhost:8080/"
    },
    "id": "7vlfgXSM3qMd",
    "outputId": "7b2d72e4-b88a-4812-8e65-377b7c3ff4d5"
   },
   "outputs": [
    {
     "name": "stdout",
     "output_type": "stream",
     "text": [
      "['without_mask', 'with_mask']\n"
     ]
    }
   ],
   "source": [
    "categories = os.listdir(data_path)\n",
    "print(categories)                       # in dataset folder two files"
   ]
  },
  {
   "cell_type": "code",
   "execution_count": 4,
   "metadata": {
    "colab": {
     "base_uri": "https://localhost:8080/"
    },
    "id": "QhmhmKBwylck",
    "outputId": "73909895-8e8d-4a2d-d0a1-d6e62c021047"
   },
   "outputs": [
    {
     "name": "stdout",
     "output_type": "stream",
     "text": [
      "[0, 1]\n",
      "{'without_mask': 0, 'with_mask': 1}\n"
     ]
    }
   ],
   "source": [
    "label = [i   for i in range   (len(categories))]\n",
    "print(label)\n",
    "\n",
    "label_dict = dict(zip(categories,label))\n",
    "print(label_dict)                            "
   ]
  },
  {
   "cell_type": "markdown",
   "metadata": {
    "id": "S7wYU71Gylcm"
   },
   "source": [
    "# Data Pre-Processing"
   ]
  },
  {
   "cell_type": "code",
   "execution_count": 5,
   "metadata": {
    "id": "gd-ovbD0ylcm"
   },
   "outputs": [
    {
     "name": "stdout",
     "output_type": "stream",
     "text": [
      "Failed to read image:  C:\\Users\\Admin\\Downloads\\task_2\\dataset\\with_mask\\0_0_œ¬‘ÿ.png\n",
      "Failed to read image:  C:\\Users\\Admin\\Downloads\\task_2\\dataset\\with_mask\\0_0_≈˙◊¢ 2020-02-23 132115.png\n",
      "Failed to read image:  C:\\Users\\Admin\\Downloads\\task_2\\dataset\\with_mask\\0_0_≈˙◊¢ 2020-02-23 132400.png\n",
      "Failed to read image:  C:\\Users\\Admin\\Downloads\\task_2\\dataset\\with_mask\\0_0_≈˙◊¢ 2020-02-24 171804.png\n",
      "Failed to read image:  C:\\Users\\Admin\\Downloads\\task_2\\dataset\\with_mask\\0_0_≈˙◊¢ 2020-02-24 172039.png\n",
      "Failed to read image:  C:\\Users\\Admin\\Downloads\\task_2\\dataset\\with_mask\\0_0_≈˙◊¢ 2020-02-24 202509.png\n",
      "Failed to read image:  C:\\Users\\Admin\\Downloads\\task_2\\dataset\\with_mask\\0_0_≈˙◊¢ 2020-02-24 205216.png\n",
      "Failed to read image:  C:\\Users\\Admin\\Downloads\\task_2\\dataset\\with_mask\\0_0_≈˙◊¢ 2020-02-24 215234.png\n",
      "Failed to read image:  C:\\Users\\Admin\\Downloads\\task_2\\dataset\\with_mask\\0_0_≈˙◊¢ 2020-02-24 215615.png\n",
      "Failed to read image:  C:\\Users\\Admin\\Downloads\\task_2\\dataset\\with_mask\\0_0_≈˙◊¢ 2020-02-24 220536.png\n",
      "Failed to read image:  C:\\Users\\Admin\\Downloads\\task_2\\dataset\\with_mask\\0_0_≈˙◊¢ 2020-02-24 222124.png\n",
      "Failed to read image:  C:\\Users\\Admin\\Downloads\\task_2\\dataset\\with_mask\\0_0_≈˙◊¢ 2020-02-24 224833.png\n",
      "Failed to read image:  C:\\Users\\Admin\\Downloads\\task_2\\dataset\\with_mask\\0_0_≈˙◊¢ 2020-02-24 225329.png\n",
      "Failed to read image:  C:\\Users\\Admin\\Downloads\\task_2\\dataset\\with_mask\\0_0_≈˙◊¢ 2020-02-24 225427.png\n",
      "Failed to read image:  C:\\Users\\Admin\\Downloads\\task_2\\dataset\\with_mask\\0_0_≈˙◊¢ 2020-02-25 150422.png\n",
      "Failed to read image:  C:\\Users\\Admin\\Downloads\\task_2\\dataset\\with_mask\\0_0_≈˙◊¢ 2020-02-25 150847.png\n",
      "Failed to read image:  C:\\Users\\Admin\\Downloads\\task_2\\dataset\\with_mask\\0_0_≈˙◊¢ 2020-02-25 150921.png\n",
      "Failed to read image:  C:\\Users\\Admin\\Downloads\\task_2\\dataset\\with_mask\\0_0_≈˙◊¢ 2020-02-25 185823.png\n",
      "Failed to read image:  C:\\Users\\Admin\\Downloads\\task_2\\dataset\\with_mask\\0_0_≈˙◊¢ 2020-02-25 190026.png\n",
      "Failed to read image:  C:\\Users\\Admin\\Downloads\\task_2\\dataset\\with_mask\\1_0_≈˙◊¢ 2020-02-24 202935.png\n",
      "Failed to read image:  C:\\Users\\Admin\\Downloads\\task_2\\dataset\\with_mask\\1_0_≈˙◊¢ 2020-02-24 215624.png\n",
      "Failed to read image:  C:\\Users\\Admin\\Downloads\\task_2\\dataset\\with_mask\\1_0_≈˙◊¢ 2020-02-24 224914.png\n",
      "Failed to read image:  C:\\Users\\Admin\\Downloads\\task_2\\dataset\\with_mask\\1_0_≈˙◊¢ 2020-02-25 151918.png\n"
     ]
    }
   ],
   "source": [
    "# Set the desired width and height for the processed images\n",
    "img_size = 100\n",
    "\n",
    "data = []\n",
    "labels = []\n",
    "\n",
    "for category in categories:\n",
    "    folder_path = os.path.join(data_path, category)\n",
    "    img_names = os.listdir(folder_path)\n",
    "    \n",
    "    for img_name in img_names:\n",
    "        img_path = os.path.join(folder_path, img_name)\n",
    "        img = cv2.imread(img_path)\n",
    "\n",
    "        if img is not None:     \n",
    "            # converting the image into gray scale,it has single channel to reduce computational complexity\n",
    "            gray = cv2.cvtColor(img, cv2.COLOR_BGR2GRAY)\n",
    "\n",
    "            # resizing the gray scale into 100x100, since we need a fixed common size for all the images in the dataset\n",
    "            resized = cv2.resize(gray, (img_size, img_size))\n",
    "\n",
    "            data.append(resized)\n",
    "            labels.append(label_dict[category])\n",
    "            # appending the image(data) and label\n",
    "        else:                   \n",
    "            print(\"Failed to read image: \", img_path)"
   ]
  },
  {
   "cell_type": "code",
   "execution_count": 6,
   "metadata": {
    "colab": {
     "base_uri": "https://localhost:8080/"
    },
    "id": "a1Gs7P9Yylcn",
    "outputId": "77088229-6a3b-4d63-9a40-309618fb48e1"
   },
   "outputs": [
    {
     "name": "stdout",
     "output_type": "stream",
     "text": [
      "3810\n",
      "3810\n"
     ]
    }
   ],
   "source": [
    "print(len(data))             # total no. of images\n",
    "\n",
    "print(len(labels))"
   ]
  },
  {
   "cell_type": "code",
   "execution_count": 7,
   "metadata": {
    "colab": {
     "base_uri": "https://localhost:8080/"
    },
    "id": "S6pl64itylco",
    "outputId": "07ad8043-608d-4e7c-b007-92a79d0c925b"
   },
   "outputs": [
    {
     "name": "stdout",
     "output_type": "stream",
     "text": [
      "[[ 9  9 10 ... 21 27 27]\n",
      " [ 8  8  7 ...  8 13 15]\n",
      " [12 10 10 ...  4  4  4]\n",
      " ...\n",
      " [66 67 58 ...  1  0  0]\n",
      " [66 64 53 ...  2  0  0]\n",
      " [60 56 49 ...  2  0  0]]\n"
     ]
    }
   ],
   "source": [
    "print(data[0])       # image pixel values lies between 0-255"
   ]
  },
  {
   "cell_type": "code",
   "execution_count": 8,
   "metadata": {
    "colab": {
     "base_uri": "https://localhost:8080/"
    },
    "id": "5iKLlFkkylcp",
    "outputId": "62b93e78-aea5-4311-b90a-72f2d042a0b6"
   },
   "outputs": [
    {
     "name": "stdout",
     "output_type": "stream",
     "text": [
      "(100, 100)\n"
     ]
    }
   ],
   "source": [
    "print(data[0].shape)      # this will be input_shape"
   ]
  },
  {
   "cell_type": "code",
   "execution_count": 9,
   "metadata": {
    "id": "_UOnN2gdylcp"
   },
   "outputs": [],
   "source": [
    "# Converting into numpy array and Scaling the raw pixel intensities to the range [0,1]\n",
    "data = np.array(data)/255.0\n",
    "\n",
    "data = np.reshape(data,(data.shape[0],img_size,img_size,1))\n",
    "\n",
    "labels = np.array(labels)   # no scaling here as it is already labelled data i.e [0, 1]"
   ]
  },
  {
   "cell_type": "code",
   "execution_count": 10,
   "metadata": {
    "colab": {
     "base_uri": "https://localhost:8080/"
    },
    "id": "wKHhulgBylcq",
    "outputId": "c9c709ad-3afb-4cb3-fb8e-146c90acbeec"
   },
   "outputs": [
    {
     "name": "stdout",
     "output_type": "stream",
     "text": [
      "[[[0.03529412]\n",
      "  [0.03529412]\n",
      "  [0.03921569]\n",
      "  ...\n",
      "  [0.08235294]\n",
      "  [0.10588235]\n",
      "  [0.10588235]]\n",
      "\n",
      " [[0.03137255]\n",
      "  [0.03137255]\n",
      "  [0.02745098]\n",
      "  ...\n",
      "  [0.03137255]\n",
      "  [0.05098039]\n",
      "  [0.05882353]]\n",
      "\n",
      " [[0.04705882]\n",
      "  [0.03921569]\n",
      "  [0.03921569]\n",
      "  ...\n",
      "  [0.01568627]\n",
      "  [0.01568627]\n",
      "  [0.01568627]]\n",
      "\n",
      " ...\n",
      "\n",
      " [[0.25882353]\n",
      "  [0.2627451 ]\n",
      "  [0.22745098]\n",
      "  ...\n",
      "  [0.00392157]\n",
      "  [0.        ]\n",
      "  [0.        ]]\n",
      "\n",
      " [[0.25882353]\n",
      "  [0.25098039]\n",
      "  [0.20784314]\n",
      "  ...\n",
      "  [0.00784314]\n",
      "  [0.        ]\n",
      "  [0.        ]]\n",
      "\n",
      " [[0.23529412]\n",
      "  [0.21960784]\n",
      "  [0.19215686]\n",
      "  ...\n",
      "  [0.00784314]\n",
      "  [0.        ]\n",
      "  [0.        ]]]\n"
     ]
    }
   ],
   "source": [
    "print(data[0])"
   ]
  },
  {
   "cell_type": "code",
   "execution_count": 11,
   "metadata": {
    "colab": {
     "base_uri": "https://localhost:8080/"
    },
    "id": "d8XeWMGwylcr",
    "outputId": "1baafc5b-bad3-42bd-d191-ec6b9a4bebb3"
   },
   "outputs": [
    {
     "name": "stdout",
     "output_type": "stream",
     "text": [
      "[0 0 0 ... 1 1 1]\n"
     ]
    }
   ],
   "source": [
    "print(labels)                       # not in specific vector of own , its merged in one array"
   ]
  },
  {
   "cell_type": "code",
   "execution_count": 12,
   "metadata": {
    "id": "cDmBa_4Kylcr"
   },
   "outputs": [],
   "source": [
    "# Convert the labels from integers/categories to vectors\n",
    "\n",
    "labels = to_categorical(labels, num_classes=2)  \n",
    "\n",
    "# [0,1] Represents label 1:WITH_MASK\n",
    "# [1,0] Represents label 0:WITHOUT_MASK"
   ]
  },
  {
   "cell_type": "code",
   "execution_count": 13,
   "metadata": {
    "colab": {
     "base_uri": "https://localhost:8080/"
    },
    "id": "KmFf-xp9ylcr",
    "outputId": "8ab3e3a1-33b3-4ad4-9da1-c8beb5d7166a"
   },
   "outputs": [
    {
     "name": "stdout",
     "output_type": "stream",
     "text": [
      "[[1. 0.]\n",
      " [1. 0.]\n",
      " [1. 0.]\n",
      " ...\n",
      " [0. 1.]\n",
      " [0. 1.]\n",
      " [0. 1.]]\n"
     ]
    }
   ],
   "source": [
    "print(labels)"
   ]
  },
  {
   "cell_type": "markdown",
   "metadata": {
    "id": "j5aa-Jmfylcs"
   },
   "source": [
    "# Splitting the Data"
   ]
  },
  {
   "cell_type": "code",
   "execution_count": 14,
   "metadata": {
    "id": "xS2YTWbOylcs"
   },
   "outputs": [],
   "source": [
    "# Split the data into train and test\n",
    "\n",
    "(trainX, testX, trainY, testY) = train_test_split(data, labels, test_size=0.1, random_state=42)"
   ]
  },
  {
   "cell_type": "code",
   "execution_count": 15,
   "metadata": {
    "colab": {
     "base_uri": "https://localhost:8080/"
    },
    "id": "1o78TEgJylcs",
    "outputId": "ce66bb59-4bd0-4a45-8896-251fcdaf0b53"
   },
   "outputs": [
    {
     "name": "stdout",
     "output_type": "stream",
     "text": [
      "(3429, 100, 100, 1)\n",
      "(3429, 2)\n",
      "(381, 100, 100, 1)\n",
      "(381, 2)\n"
     ]
    }
   ],
   "source": [
    "print(trainX.shape)         # no.of images,width,height,grayscale_channel so 1\n",
    "print(trainY.shape)\n",
    "\n",
    "print(testX.shape)\n",
    "print(testY.shape)"
   ]
  },
  {
   "cell_type": "code",
   "execution_count": 16,
   "metadata": {
    "colab": {
     "base_uri": "https://localhost:8080/"
    },
    "id": "gt3FQnDhylct",
    "outputId": "14b76915-02e3-4e3c-b522-8230b4a73d8a"
   },
   "outputs": [
    {
     "name": "stdout",
     "output_type": "stream",
     "text": [
      "[[[0.14901961]\n",
      "  [0.15294118]\n",
      "  [0.14509804]\n",
      "  ...\n",
      "  [0.10196078]\n",
      "  [0.11764706]\n",
      "  [0.09019608]]\n",
      "\n",
      " [[0.14509804]\n",
      "  [0.14901961]\n",
      "  [0.14117647]\n",
      "  ...\n",
      "  [0.09019608]\n",
      "  [0.10588235]\n",
      "  [0.08235294]]\n",
      "\n",
      " [[0.13333333]\n",
      "  [0.13333333]\n",
      "  [0.1254902 ]\n",
      "  ...\n",
      "  [0.09019608]\n",
      "  [0.10196078]\n",
      "  [0.09019608]]\n",
      "\n",
      " ...\n",
      "\n",
      " [[0.00784314]\n",
      "  [0.00784314]\n",
      "  [0.01176471]\n",
      "  ...\n",
      "  [0.00392157]\n",
      "  [0.01568627]\n",
      "  [0.00392157]]\n",
      "\n",
      " [[0.00784314]\n",
      "  [0.00392157]\n",
      "  [0.01176471]\n",
      "  ...\n",
      "  [0.07058824]\n",
      "  [0.04705882]\n",
      "  [0.02352941]]\n",
      "\n",
      " [[0.00784314]\n",
      "  [0.00392157]\n",
      "  [0.01568627]\n",
      "  ...\n",
      "  [0.2       ]\n",
      "  [0.16078431]\n",
      "  [0.12941176]]]\n"
     ]
    }
   ],
   "source": [
    "print(trainX[0])"
   ]
  },
  {
   "cell_type": "code",
   "execution_count": 17,
   "metadata": {
    "colab": {
     "base_uri": "https://localhost:8080/"
    },
    "id": "DbvKQbMrX0zr",
    "outputId": "dd53560b-d3c1-4eae-f704-bbdd1b34d9bc"
   },
   "outputs": [
    {
     "name": "stdout",
     "output_type": "stream",
     "text": [
      "[0. 1.]\n"
     ]
    }
   ],
   "source": [
    "print(trainY[0])"
   ]
  },
  {
   "cell_type": "markdown",
   "metadata": {
    "id": "Jmz-xdatylcu"
   },
   "source": [
    "# CNN"
   ]
  },
  {
   "cell_type": "code",
   "execution_count": 18,
   "metadata": {
    "id": "kqraeLAUylcu"
   },
   "outputs": [],
   "source": [
    "model = Sequential()\n",
    "\n",
    "# First set of CONV => RELU => MaxPOOL Layers\n",
    "model.add(Conv2D(32,(3,3), input_shape=data.shape[1:]))\n",
    "model.add(Activation(\"relu\"))\n",
    "model.add(MaxPooling2D(pool_size=(2,2)))\n",
    "\n",
    "# Second set of CONV => RELU => MaxPOOL Layers\n",
    "model.add(Conv2D(64,(3,3)))\n",
    "model.add(Activation(\"relu\"))\n",
    "model.add(MaxPooling2D(pool_size=(2,2)))\n",
    "\n",
    "# Flatten layer\n",
    "model.add(Flatten())\n",
    "model.add(Dropout(0.5))\n",
    "\n",
    "# Fully connected layer\n",
    "model.add(Dense(64))\n",
    "model.add(Activation(\"relu\"))\n",
    "\n",
    "# The Final layer with two outputs for two categories\n",
    "model.add(Dense(2))\n",
    "model.add(Activation(\"softmax\"))"
   ]
  },
  {
   "cell_type": "code",
   "execution_count": 19,
   "metadata": {
    "id": "4ajM5Xz-ylcv"
   },
   "outputs": [],
   "source": [
    "# Compile the neural network\n",
    "model.compile(loss=\"binary_crossentropy\", optimizer=\"adam\", metrics=[\"accuracy\"])"
   ]
  },
  {
   "cell_type": "code",
   "execution_count": 20,
   "metadata": {
    "colab": {
     "base_uri": "https://localhost:8080/"
    },
    "id": "xN2wKyXYylcv",
    "outputId": "b3f82a14-0caa-4e87-cd6f-f8037f503a0d"
   },
   "outputs": [
    {
     "name": "stdout",
     "output_type": "stream",
     "text": [
      "Model: \"sequential\"\n",
      "_________________________________________________________________\n",
      " Layer (type)                Output Shape              Param #   \n",
      "=================================================================\n",
      " conv2d (Conv2D)             (None, 98, 98, 32)        320       \n",
      "                                                                 \n",
      " activation (Activation)     (None, 98, 98, 32)        0         \n",
      "                                                                 \n",
      " max_pooling2d (MaxPooling2D  (None, 49, 49, 32)       0         \n",
      " )                                                               \n",
      "                                                                 \n",
      " conv2d_1 (Conv2D)           (None, 47, 47, 64)        18496     \n",
      "                                                                 \n",
      " activation_1 (Activation)   (None, 47, 47, 64)        0         \n",
      "                                                                 \n",
      " max_pooling2d_1 (MaxPooling  (None, 23, 23, 64)       0         \n",
      " 2D)                                                             \n",
      "                                                                 \n",
      " flatten (Flatten)           (None, 33856)             0         \n",
      "                                                                 \n",
      " dropout (Dropout)           (None, 33856)             0         \n",
      "                                                                 \n",
      " dense (Dense)               (None, 64)                2166848   \n",
      "                                                                 \n",
      " activation_2 (Activation)   (None, 64)                0         \n",
      "                                                                 \n",
      " dense_1 (Dense)             (None, 2)                 130       \n",
      "                                                                 \n",
      " activation_3 (Activation)   (None, 2)                 0         \n",
      "                                                                 \n",
      "=================================================================\n",
      "Total params: 2,185,794\n",
      "Trainable params: 2,185,794\n",
      "Non-trainable params: 0\n",
      "_________________________________________________________________\n",
      "None\n"
     ]
    }
   ],
   "source": [
    "print(model.summary())"
   ]
  },
  {
   "cell_type": "code",
   "execution_count": 70,
   "metadata": {
    "id": "AIYBlPpj_yU1"
   },
   "outputs": [],
   "source": [
    "checkpoint = ModelCheckpoint(\"model-{epoch:03d}.model\", monitor=\"val_loss\", verbose=0, save_best_only=True, mode=\"auto\")"
   ]
  },
  {
   "cell_type": "code",
   "execution_count": 71,
   "metadata": {
    "colab": {
     "base_uri": "https://localhost:8080/"
    },
    "id": "ZmXKIha2ylcv",
    "outputId": "fc9d5f29-e6a0-40f8-8eb8-79a7e6daed6c",
    "scrolled": false
   },
   "outputs": [
    {
     "name": "stdout",
     "output_type": "stream",
     "text": [
      "[INFO] training network....\n",
      "Epoch 1/20\n",
      "86/86 [==============================] - ETA: 0s - loss: 0.5665 - accuracy: 0.6876"
     ]
    },
    {
     "name": "stderr",
     "output_type": "stream",
     "text": [
      "WARNING:absl:Found untraced functions such as _jit_compiled_convolution_op, _jit_compiled_convolution_op, _update_step_xla while saving (showing 3 of 3). These functions will not be directly callable after loading.\n"
     ]
    },
    {
     "name": "stdout",
     "output_type": "stream",
     "text": [
      "INFO:tensorflow:Assets written to: model-001.model\\assets\n"
     ]
    },
    {
     "name": "stderr",
     "output_type": "stream",
     "text": [
      "INFO:tensorflow:Assets written to: model-001.model\\assets\n"
     ]
    },
    {
     "name": "stdout",
     "output_type": "stream",
     "text": [
      "86/86 [==============================] - 26s 283ms/step - loss: 0.5665 - accuracy: 0.6876 - val_loss: 0.4534 - val_accuracy: 0.8032\n",
      "Epoch 2/20\n",
      "86/86 [==============================] - ETA: 0s - loss: 0.3694 - accuracy: 0.8425"
     ]
    },
    {
     "name": "stderr",
     "output_type": "stream",
     "text": [
      "WARNING:absl:Found untraced functions such as _jit_compiled_convolution_op, _jit_compiled_convolution_op, _update_step_xla while saving (showing 3 of 3). These functions will not be directly callable after loading.\n"
     ]
    },
    {
     "name": "stdout",
     "output_type": "stream",
     "text": [
      "INFO:tensorflow:Assets written to: model-002.model\\assets\n"
     ]
    },
    {
     "name": "stderr",
     "output_type": "stream",
     "text": [
      "INFO:tensorflow:Assets written to: model-002.model\\assets\n"
     ]
    },
    {
     "name": "stdout",
     "output_type": "stream",
     "text": [
      "86/86 [==============================] - 24s 276ms/step - loss: 0.3694 - accuracy: 0.8425 - val_loss: 0.3170 - val_accuracy: 0.8790\n",
      "Epoch 3/20\n",
      "86/86 [==============================] - ETA: 0s - loss: 0.2584 - accuracy: 0.8946"
     ]
    },
    {
     "name": "stderr",
     "output_type": "stream",
     "text": [
      "WARNING:absl:Found untraced functions such as _jit_compiled_convolution_op, _jit_compiled_convolution_op, _update_step_xla while saving (showing 3 of 3). These functions will not be directly callable after loading.\n"
     ]
    },
    {
     "name": "stdout",
     "output_type": "stream",
     "text": [
      "INFO:tensorflow:Assets written to: model-003.model\\assets\n"
     ]
    },
    {
     "name": "stderr",
     "output_type": "stream",
     "text": [
      "INFO:tensorflow:Assets written to: model-003.model\\assets\n"
     ]
    },
    {
     "name": "stdout",
     "output_type": "stream",
     "text": [
      "86/86 [==============================] - 24s 281ms/step - loss: 0.2584 - accuracy: 0.8946 - val_loss: 0.2508 - val_accuracy: 0.8980\n",
      "Epoch 4/20\n",
      "86/86 [==============================] - ETA: 0s - loss: 0.2010 - accuracy: 0.9180"
     ]
    },
    {
     "name": "stderr",
     "output_type": "stream",
     "text": [
      "WARNING:absl:Found untraced functions such as _jit_compiled_convolution_op, _jit_compiled_convolution_op, _update_step_xla while saving (showing 3 of 3). These functions will not be directly callable after loading.\n"
     ]
    },
    {
     "name": "stdout",
     "output_type": "stream",
     "text": [
      "INFO:tensorflow:Assets written to: model-004.model\\assets\n"
     ]
    },
    {
     "name": "stderr",
     "output_type": "stream",
     "text": [
      "INFO:tensorflow:Assets written to: model-004.model\\assets\n"
     ]
    },
    {
     "name": "stdout",
     "output_type": "stream",
     "text": [
      "86/86 [==============================] - 24s 280ms/step - loss: 0.2010 - accuracy: 0.9180 - val_loss: 0.2486 - val_accuracy: 0.9023\n",
      "Epoch 5/20\n",
      "86/86 [==============================] - 22s 255ms/step - loss: 0.1564 - accuracy: 0.9366 - val_loss: 0.2487 - val_accuracy: 0.9111\n",
      "Epoch 6/20\n",
      "86/86 [==============================] - ETA: 0s - loss: 0.1139 - accuracy: 0.9603"
     ]
    },
    {
     "name": "stderr",
     "output_type": "stream",
     "text": [
      "WARNING:absl:Found untraced functions such as _jit_compiled_convolution_op, _jit_compiled_convolution_op, _update_step_xla while saving (showing 3 of 3). These functions will not be directly callable after loading.\n"
     ]
    },
    {
     "name": "stdout",
     "output_type": "stream",
     "text": [
      "INFO:tensorflow:Assets written to: model-006.model\\assets\n"
     ]
    },
    {
     "name": "stderr",
     "output_type": "stream",
     "text": [
      "INFO:tensorflow:Assets written to: model-006.model\\assets\n"
     ]
    },
    {
     "name": "stdout",
     "output_type": "stream",
     "text": [
      "86/86 [==============================] - 24s 276ms/step - loss: 0.1139 - accuracy: 0.9603 - val_loss: 0.2343 - val_accuracy: 0.9023\n",
      "Epoch 7/20\n",
      "86/86 [==============================] - 22s 253ms/step - loss: 0.0901 - accuracy: 0.9657 - val_loss: 0.2485 - val_accuracy: 0.9271\n",
      "Epoch 8/20\n",
      "86/86 [==============================] - 22s 254ms/step - loss: 0.0771 - accuracy: 0.9712 - val_loss: 0.2454 - val_accuracy: 0.9184\n",
      "Epoch 9/20\n",
      "86/86 [==============================] - 22s 254ms/step - loss: 0.0733 - accuracy: 0.9767 - val_loss: 0.3115 - val_accuracy: 0.9009\n",
      "Epoch 10/20\n",
      "86/86 [==============================] - 22s 253ms/step - loss: 0.0506 - accuracy: 0.9821 - val_loss: 0.2679 - val_accuracy: 0.9257\n",
      "Epoch 11/20\n",
      "86/86 [==============================] - 22s 254ms/step - loss: 0.0439 - accuracy: 0.9861 - val_loss: 0.2527 - val_accuracy: 0.9388\n",
      "Epoch 12/20\n",
      "86/86 [==============================] - 22s 258ms/step - loss: 0.0379 - accuracy: 0.9902 - val_loss: 0.2567 - val_accuracy: 0.9300\n",
      "Epoch 13/20\n",
      "86/86 [==============================] - 22s 254ms/step - loss: 0.0245 - accuracy: 0.9934 - val_loss: 0.3464 - val_accuracy: 0.9082\n",
      "Epoch 14/20\n",
      "86/86 [==============================] - 22s 255ms/step - loss: 0.0193 - accuracy: 0.9949 - val_loss: 0.3065 - val_accuracy: 0.9271\n",
      "Epoch 15/20\n",
      "86/86 [==============================] - 22s 255ms/step - loss: 0.0140 - accuracy: 0.9956 - val_loss: 0.2754 - val_accuracy: 0.9359\n",
      "Epoch 16/20\n",
      "86/86 [==============================] - 22s 255ms/step - loss: 0.0197 - accuracy: 0.9960 - val_loss: 0.3384 - val_accuracy: 0.9257\n",
      "Epoch 17/20\n",
      "86/86 [==============================] - 22s 255ms/step - loss: 0.0138 - accuracy: 0.9960 - val_loss: 0.3354 - val_accuracy: 0.9242\n",
      "Epoch 18/20\n",
      "86/86 [==============================] - 22s 253ms/step - loss: 0.0152 - accuracy: 0.9964 - val_loss: 0.3395 - val_accuracy: 0.9271\n",
      "Epoch 19/20\n",
      "86/86 [==============================] - 22s 257ms/step - loss: 0.0240 - accuracy: 0.9931 - val_loss: 0.3154 - val_accuracy: 0.9096\n",
      "Epoch 20/20\n",
      "86/86 [==============================] - 22s 255ms/step - loss: 0.0471 - accuracy: 0.9840 - val_loss: 0.3117 - val_accuracy: 0.9300\n"
     ]
    }
   ],
   "source": [
    "# Training the neural network\n",
    "print(\"[INFO] training network....\")\n",
    "history = model.fit(trainX, trainY, epochs=20, callbacks=[checkpoint], validation_split=0.2)"
   ]
  },
  {
   "cell_type": "markdown",
   "metadata": {
    "id": "c4S8GXaiylcw"
   },
   "source": [
    "# Model Evaluation"
   ]
  },
  {
   "cell_type": "code",
   "execution_count": 72,
   "metadata": {
    "colab": {
     "base_uri": "https://localhost:8080/"
    },
    "id": "nGciHOjq4y4K",
    "outputId": "54864e98-9bde-48f3-9896-74cec7db98e3"
   },
   "outputs": [
    {
     "name": "stdout",
     "output_type": "stream",
     "text": [
      "12/12 [==============================] - 1s 63ms/step - loss: 0.2244 - accuracy: 0.9318\n",
      "Test Accuracy =  0.9317585229873657\n"
     ]
    }
   ],
   "source": [
    "loss, accuracy = model.evaluate(testX, testY)\n",
    "print(\"Test Accuracy = \", accuracy)"
   ]
  },
  {
   "cell_type": "code",
   "execution_count": 73,
   "metadata": {
    "colab": {
     "base_uri": "https://localhost:8080/",
     "height": 569
    },
    "id": "CPIJkCTpylcw",
    "outputId": "597fb2ce-8f86-4010-9ca1-72eb77772d6a"
   },
   "outputs": [
    {
     "data": {
      "image/png": "[encoded data removed]",
      "text/plain": [
       "<Figure size 576x432 with 1 Axes>"
      ]
     },
     "metadata": {},
     "output_type": "display_data"
    }
   ],
   "source": [
    "# Plot the training and validation accuracy\n",
    "\n",
    "N = np.arange(1, 21)   # no.of epochs\n",
    "\n",
    "plt.style.use(\"ggplot\")\n",
    "\n",
    "plt.figure(figsize = [8,6])\n",
    "plt.plot(N, history.history[\"accuracy\"], label=\"train_acc\")\n",
    "plt.plot(N, history.history[\"val_accuracy\"], label=\"val_acc\")\n",
    "plt.title(\"Training and Validation Accuracy\")\n",
    "plt.xlabel(\"Epoch #\", weight=\"bold\")\n",
    "plt.ylabel(\"Accuracy\", weight=\"bold\")\n",
    "\n",
    "plt.legend()\n",
    "plt.show()"
   ]
  },
  {
   "cell_type": "code",
   "execution_count": 74,
   "metadata": {
    "colab": {
     "base_uri": "https://localhost:8080/",
     "height": 569
    },
    "id": "nzYdD6qaylcx",
    "outputId": "aac38b62-a5e2-4376-9a7d-1b980d7f84bd"
   },
   "outputs": [
    {
     "data": {
      "image/png": "[encoded data removed]",
      "text/plain": [
       "<Figure size 576x432 with 1 Axes>"
      ]
     },
     "metadata": {},
     "output_type": "display_data"
    }
   ],
   "source": [
    "# Plot the training and validation loss\n",
    "\n",
    "N = np.arange(1, 21)\n",
    "\n",
    "plt.style.use(\"ggplot\")\n",
    "\n",
    "plt.figure(figsize = [8,6])\n",
    "plt.plot(N, history.history[\"loss\"], label=\"train_loss\")\n",
    "plt.plot(N, history.history[\"val_loss\"], label=\"val_loss\")\n",
    "plt.title(\"Training & Validation Loss\")\n",
    "plt.xlabel(\"Epoch #\", weight=\"bold\")\n",
    "plt.ylabel(\"Loss\", weight=\"bold\")\n",
    "\n",
    "plt.legend()\n",
    "plt.show()"
   ]
  },
  {
   "cell_type": "markdown",
   "metadata": {
    "id": "p1Yy7_tVylcx"
   },
   "source": [
    "# Detecting Face Mask"
   ]
  },
  {
   "cell_type": "code",
   "execution_count": 21,
   "metadata": {
    "id": "qohbn9Z2ylcx"
   },
   "outputs": [],
   "source": [
    "# Labelling the information\n",
    "labels_dict = {0:\"WITHOUT_MASK\",1:\"WITH_MASK\"}\n",
    "\n",
    "# Setting boundary rectangle color using BGR\n",
    "color_dict = {0:(0,0,255), 1:(0,255,0)}"
   ]
  },
  {
   "cell_type": "code",
   "execution_count": 22,
   "metadata": {
    "id": "uFLOMxc5ylcx"
   },
   "outputs": [],
   "source": [
    "# Loading model\n",
    "model = load_model(\"model-006.model\")      "
   ]
  },
  {
   "cell_type": "code",
   "execution_count": 23,
   "metadata": {
    "id": "M3yym5WdRGSD"
   },
   "outputs": [],
   "source": [
    "# For face detection,using haarcascade classifier algorithm\n",
    "face_classifier = cv2.CascadeClassifier(cv2.data.haarcascades + \"haarcascade_frontalface_default.xml\")"
   ]
  },
  {
   "cell_type": "code",
   "execution_count": 24,
   "metadata": {
    "colab": {
     "base_uri": "https://localhost:8080/",
     "height": 235
    },
    "id": "CvmhJYq1ylcx",
    "outputId": "f834d60c-688e-4feb-aef7-4ccda3a35136"
   },
   "outputs": [
    {
     "name": "stdout",
     "output_type": "stream",
     "text": [
      "1/1 [==============================] - 0s 268ms/step\n",
      "1/1 [==============================] - 0s 42ms/step\n",
      "1/1 [==============================] - 0s 46ms/step\n",
      "1/1 [==============================] - 0s 44ms/step\n",
      "1/1 [==============================] - 0s 36ms/step\n",
      "1/1 [==============================] - 0s 38ms/step\n",
      "1/1 [==============================] - 0s 36ms/step\n",
      "1/1 [==============================] - 0s 46ms/step\n",
      "1/1 [==============================] - 0s 46ms/step\n",
      "1/1 [==============================] - 0s 39ms/step\n",
      "1/1 [==============================] - 0s 45ms/step\n",
      "1/1 [==============================] - 0s 41ms/step\n",
      "1/1 [==============================] - 0s 34ms/step\n",
      "1/1 [==============================] - 0s 46ms/step\n",
      "1/1 [==============================] - 0s 49ms/step\n",
      "1/1 [==============================] - 0s 42ms/step\n",
      "1/1 [==============================] - 0s 44ms/step\n",
      "1/1 [==============================] - 0s 44ms/step\n",
      "1/1 [==============================] - 0s 45ms/step\n",
      "1/1 [==============================] - 0s 41ms/step\n",
      "1/1 [==============================] - 0s 39ms/step\n",
      "1/1 [==============================] - 0s 35ms/step\n",
      "1/1 [==============================] - 0s 42ms/step\n",
      "1/1 [==============================] - 0s 48ms/step\n",
      "1/1 [==============================] - 0s 46ms/step\n",
      "1/1 [==============================] - 0s 38ms/step\n",
      "1/1 [==============================] - 0s 47ms/step\n",
      "1/1 [==============================] - 0s 38ms/step\n",
      "1/1 [==============================] - 0s 38ms/step\n",
      "1/1 [==============================] - 0s 41ms/step\n",
      "1/1 [==============================] - 0s 44ms/step\n",
      "1/1 [==============================] - 0s 48ms/step\n",
      "1/1 [==============================] - 0s 40ms/step\n",
      "1/1 [==============================] - 0s 44ms/step\n",
      "1/1 [==============================] - 0s 49ms/step\n",
      "1/1 [==============================] - 0s 51ms/step\n",
      "1/1 [==============================] - 0s 47ms/step\n",
      "1/1 [==============================] - 0s 46ms/step\n",
      "1/1 [==============================] - 0s 33ms/step\n",
      "1/1 [==============================] - 0s 45ms/step\n",
      "1/1 [==============================] - 0s 49ms/step\n",
      "1/1 [==============================] - 0s 50ms/step\n",
      "1/1 [==============================] - 0s 47ms/step\n",
      "1/1 [==============================] - 0s 39ms/step\n",
      "1/1 [==============================] - 0s 45ms/step\n",
      "1/1 [==============================] - 0s 49ms/step\n",
      "1/1 [==============================] - 0s 35ms/step\n",
      "1/1 [==============================] - 0s 47ms/step\n",
      "1/1 [==============================] - 0s 53ms/step\n",
      "1/1 [==============================] - 0s 34ms/step\n",
      "1/1 [==============================] - 0s 46ms/step\n",
      "1/1 [==============================] - 0s 49ms/step\n",
      "1/1 [==============================] - 0s 48ms/step\n",
      "1/1 [==============================] - 0s 46ms/step\n",
      "1/1 [==============================] - 0s 47ms/step\n",
      "1/1 [==============================] - 0s 44ms/step\n",
      "1/1 [==============================] - 0s 52ms/step\n",
      "1/1 [==============================] - 0s 47ms/step\n",
      "1/1 [==============================] - 0s 31ms/step\n",
      "1/1 [==============================] - 0s 36ms/step\n",
      "1/1 [==============================] - 0s 46ms/step\n",
      "1/1 [==============================] - 0s 44ms/step\n",
      "1/1 [==============================] - 0s 40ms/step\n",
      "1/1 [==============================] - 0s 42ms/step\n",
      "1/1 [==============================] - 0s 42ms/step\n",
      "1/1 [==============================] - 0s 37ms/step\n",
      "1/1 [==============================] - 0s 47ms/step\n",
      "1/1 [==============================] - 0s 31ms/step\n",
      "1/1 [==============================] - 0s 32ms/step\n",
      "1/1 [==============================] - 0s 41ms/step\n",
      "1/1 [==============================] - 0s 48ms/step\n",
      "1/1 [==============================] - 0s 52ms/step\n",
      "1/1 [==============================] - 0s 49ms/step\n",
      "1/1 [==============================] - 0s 47ms/step\n",
      "1/1 [==============================] - 0s 47ms/step\n",
      "1/1 [==============================] - 0s 37ms/step\n",
      "1/1 [==============================] - 0s 47ms/step\n",
      "1/1 [==============================] - 0s 39ms/step\n",
      "1/1 [==============================] - 0s 30ms/step\n",
      "1/1 [==============================] - 0s 47ms/step\n",
      "1/1 [==============================] - 0s 36ms/step\n",
      "1/1 [==============================] - 0s 32ms/step\n",
      "1/1 [==============================] - 0s 40ms/step\n",
      "1/1 [==============================] - 0s 46ms/step\n",
      "1/1 [==============================] - 0s 40ms/step\n",
      "1/1 [==============================] - 0s 40ms/step\n",
      "1/1 [==============================] - 0s 42ms/step\n",
      "1/1 [==============================] - 0s 43ms/step\n",
      "1/1 [==============================] - 0s 42ms/step\n",
      "1/1 [==============================] - 0s 50ms/step\n",
      "1/1 [==============================] - 0s 49ms/step\n",
      "1/1 [==============================] - 0s 51ms/step\n",
      "1/1 [==============================] - 0s 40ms/step\n",
      "1/1 [==============================] - 0s 44ms/step\n",
      "1/1 [==============================] - 0s 43ms/step\n",
      "1/1 [==============================] - 0s 40ms/step\n",
      "1/1 [==============================] - 0s 43ms/step\n",
      "1/1 [==============================] - 0s 49ms/step\n",
      "1/1 [==============================] - 0s 48ms/step\n",
      "1/1 [==============================] - 0s 42ms/step\n",
      "1/1 [==============================] - 0s 31ms/step\n",
      "1/1 [==============================] - 0s 47ms/step\n",
      "1/1 [==============================] - 0s 39ms/step\n",
      "1/1 [==============================] - 0s 38ms/step\n",
      "1/1 [==============================] - 0s 40ms/step\n",
      "1/1 [==============================] - 0s 36ms/step\n",
      "1/1 [==============================] - 0s 47ms/step\n",
      "1/1 [==============================] - 0s 34ms/step\n",
      "1/1 [==============================] - 0s 48ms/step\n",
      "1/1 [==============================] - 0s 42ms/step\n",
      "1/1 [==============================] - 0s 47ms/step\n",
      "1/1 [==============================] - 0s 29ms/step\n",
      "1/1 [==============================] - 0s 42ms/step\n",
      "1/1 [==============================] - 0s 48ms/step\n",
      "1/1 [==============================] - 0s 37ms/step\n",
      "1/1 [==============================] - 0s 40ms/step\n",
      "1/1 [==============================] - 0s 41ms/step\n",
      "1/1 [==============================] - 0s 36ms/step\n",
      "1/1 [==============================] - 0s 43ms/step\n",
      "1/1 [==============================] - 0s 38ms/step\n",
      "1/1 [==============================] - 0s 47ms/step\n",
      "1/1 [==============================] - 0s 31ms/step\n",
      "1/1 [==============================] - 0s 50ms/step\n",
      "1/1 [==============================] - 0s 30ms/step\n",
      "1/1 [==============================] - 0s 48ms/step\n",
      "1/1 [==============================] - 0s 36ms/step\n",
      "1/1 [==============================] - 0s 40ms/step\n",
      "1/1 [==============================] - 0s 47ms/step\n",
      "1/1 [==============================] - 0s 51ms/step\n",
      "1/1 [==============================] - 0s 51ms/step\n",
      "1/1 [==============================] - 0s 35ms/step\n",
      "1/1 [==============================] - 0s 43ms/step\n",
      "1/1 [==============================] - 0s 44ms/step\n",
      "1/1 [==============================] - 0s 41ms/step\n",
      "1/1 [==============================] - 0s 45ms/step\n",
      "1/1 [==============================] - 0s 29ms/step\n",
      "1/1 [==============================] - 0s 50ms/step\n",
      "1/1 [==============================] - 0s 41ms/step\n",
      "1/1 [==============================] - 0s 42ms/step\n",
      "1/1 [==============================] - 0s 50ms/step\n",
      "1/1 [==============================] - 0s 40ms/step\n",
      "1/1 [==============================] - 0s 44ms/step\n",
      "1/1 [==============================] - 0s 43ms/step\n",
      "1/1 [==============================] - 0s 45ms/step\n",
      "1/1 [==============================] - 0s 49ms/step\n",
      "1/1 [==============================] - 0s 50ms/step\n",
      "1/1 [==============================] - 0s 41ms/step\n",
      "1/1 [==============================] - 0s 49ms/step\n",
      "1/1 [==============================] - 0s 39ms/step\n",
      "1/1 [==============================] - 0s 52ms/step\n",
      "1/1 [==============================] - 0s 47ms/step\n",
      "1/1 [==============================] - 0s 47ms/step\n",
      "1/1 [==============================] - 0s 39ms/step\n",
      "1/1 [==============================] - 0s 43ms/step\n",
      "1/1 [==============================] - 0s 31ms/step\n",
      "1/1 [==============================] - 0s 31ms/step\n",
      "1/1 [==============================] - 0s 40ms/step\n"
     ]
    },
    {
     "name": "stdout",
     "output_type": "stream",
     "text": [
      "1/1 [==============================] - 0s 41ms/step\n",
      "1/1 [==============================] - 0s 42ms/step\n",
      "1/1 [==============================] - 0s 43ms/step\n",
      "1/1 [==============================] - 0s 45ms/step\n",
      "1/1 [==============================] - 0s 49ms/step\n",
      "1/1 [==============================] - 0s 33ms/step\n",
      "1/1 [==============================] - 0s 44ms/step\n",
      "1/1 [==============================] - 0s 46ms/step\n",
      "1/1 [==============================] - 0s 42ms/step\n",
      "1/1 [==============================] - 0s 47ms/step\n",
      "1/1 [==============================] - 0s 40ms/step\n",
      "1/1 [==============================] - 0s 42ms/step\n",
      "1/1 [==============================] - 0s 46ms/step\n",
      "1/1 [==============================] - 0s 41ms/step\n",
      "1/1 [==============================] - 0s 51ms/step\n",
      "1/1 [==============================] - 0s 47ms/step\n",
      "1/1 [==============================] - 0s 41ms/step\n",
      "1/1 [==============================] - 0s 45ms/step\n",
      "1/1 [==============================] - 0s 40ms/step\n",
      "1/1 [==============================] - 0s 40ms/step\n",
      "1/1 [==============================] - 0s 47ms/step\n",
      "1/1 [==============================] - 0s 48ms/step\n",
      "1/1 [==============================] - 0s 46ms/step\n",
      "1/1 [==============================] - 0s 39ms/step\n",
      "1/1 [==============================] - 0s 47ms/step\n",
      "1/1 [==============================] - 0s 36ms/step\n",
      "1/1 [==============================] - 0s 37ms/step\n",
      "1/1 [==============================] - 0s 38ms/step\n",
      "1/1 [==============================] - 0s 36ms/step\n",
      "1/1 [==============================] - 0s 31ms/step\n",
      "1/1 [==============================] - 0s 47ms/step\n",
      "1/1 [==============================] - 0s 47ms/step\n",
      "1/1 [==============================] - 0s 38ms/step\n",
      "1/1 [==============================] - 0s 40ms/step\n",
      "1/1 [==============================] - 0s 47ms/step\n",
      "1/1 [==============================] - 0s 35ms/step\n",
      "1/1 [==============================] - 0s 39ms/step\n",
      "1/1 [==============================] - 0s 39ms/step\n",
      "1/1 [==============================] - 0s 42ms/step\n",
      "1/1 [==============================] - 0s 47ms/step\n",
      "1/1 [==============================] - 0s 43ms/step\n",
      "1/1 [==============================] - 0s 48ms/step\n",
      "1/1 [==============================] - 0s 48ms/step\n",
      "1/1 [==============================] - 0s 44ms/step\n",
      "1/1 [==============================] - 0s 38ms/step\n",
      "1/1 [==============================] - 0s 42ms/step\n",
      "1/1 [==============================] - 0s 51ms/step\n",
      "1/1 [==============================] - 0s 47ms/step\n",
      "1/1 [==============================] - 0s 52ms/step\n",
      "1/1 [==============================] - 0s 54ms/step\n",
      "1/1 [==============================] - 0s 41ms/step\n",
      "1/1 [==============================] - 0s 45ms/step\n",
      "1/1 [==============================] - 0s 51ms/step\n",
      "1/1 [==============================] - 0s 54ms/step\n",
      "1/1 [==============================] - 0s 49ms/step\n",
      "1/1 [==============================] - 0s 44ms/step\n",
      "1/1 [==============================] - 0s 46ms/step\n",
      "1/1 [==============================] - 0s 48ms/step\n",
      "1/1 [==============================] - 0s 44ms/step\n",
      "1/1 [==============================] - 0s 42ms/step\n",
      "1/1 [==============================] - 0s 49ms/step\n",
      "1/1 [==============================] - 0s 51ms/step\n",
      "1/1 [==============================] - 0s 44ms/step\n",
      "1/1 [==============================] - 0s 57ms/step\n",
      "1/1 [==============================] - 0s 42ms/step\n",
      "1/1 [==============================] - 0s 41ms/step\n",
      "1/1 [==============================] - 0s 45ms/step\n",
      "1/1 [==============================] - 0s 50ms/step\n",
      "1/1 [==============================] - 0s 36ms/step\n",
      "1/1 [==============================] - 0s 42ms/step\n",
      "1/1 [==============================] - 0s 48ms/step\n",
      "1/1 [==============================] - 0s 50ms/step\n",
      "1/1 [==============================] - 0s 54ms/step\n",
      "1/1 [==============================] - 0s 39ms/step\n",
      "1/1 [==============================] - 0s 45ms/step\n",
      "1/1 [==============================] - 0s 46ms/step\n",
      "1/1 [==============================] - 0s 46ms/step\n",
      "1/1 [==============================] - 0s 48ms/step\n",
      "1/1 [==============================] - 0s 45ms/step\n",
      "1/1 [==============================] - 0s 49ms/step\n",
      "1/1 [==============================] - 0s 48ms/step\n",
      "1/1 [==============================] - 0s 37ms/step\n",
      "1/1 [==============================] - 0s 47ms/step\n",
      "1/1 [==============================] - 0s 51ms/step\n",
      "1/1 [==============================] - 0s 39ms/step\n",
      "1/1 [==============================] - 0s 45ms/step\n",
      "1/1 [==============================] - 0s 56ms/step\n",
      "1/1 [==============================] - 0s 65ms/step\n",
      "1/1 [==============================] - 0s 43ms/step\n",
      "1/1 [==============================] - 0s 45ms/step\n",
      "1/1 [==============================] - 0s 41ms/step\n",
      "1/1 [==============================] - 0s 45ms/step\n",
      "1/1 [==============================] - 0s 38ms/step\n",
      "1/1 [==============================] - 0s 31ms/step\n"
     ]
    }
   ],
   "source": [
    "source = cv2.VideoCapture(0)\n",
    "\n",
    "while True:\n",
    "    ret, img = source.read()\n",
    "\n",
    "    # Convert the frame to grayscale\n",
    "    gray = cv2.cvtColor(img, cv2.COLOR_BGR2GRAY)\n",
    "\n",
    "    # Detect faces in the grayscale image\n",
    "    faces = face_classifier.detectMultiScale(gray, 1.3, 5)\n",
    "\n",
    "    for x, y, w, h in faces:\n",
    "        # Extract the face region from the grayscale image\n",
    "        face_img = gray[y:y+w, x:x+w]\n",
    "\n",
    "        # Resize the face region to a fixed size\n",
    "        resized = cv2.resize(face_img, (100, 100))\n",
    "\n",
    "        # Normalize the pixel values to a range between 0 and 1\n",
    "        normalized = resized / 255.0\n",
    "\n",
    "        # Reshape the normalized face image to a 4D array for prediction\n",
    "        reshaped = np.reshape(normalized, (1, 100, 100, 1))\n",
    "\n",
    "        # Perform face recognition by passing the reshaped image\n",
    "        result = model.predict(reshaped)\n",
    "\n",
    "        # Getting the predicted label\n",
    "        label = np.argmax(result, axis=1)[0]\n",
    "\n",
    "        # Draw a rectangle around the detected face and display the label on the frame\n",
    "        cv2.rectangle(img, (x, y), (x+w, y+h), color_dict[label], 2)\n",
    "        cv2.rectangle(img, (x, y-40), (x+w, y), color_dict[label], -1)\n",
    "        cv2.putText(img, labels_dict[label], (x, y-10), cv2.FONT_HERSHEY_SIMPLEX, 0.8, (255, 255, 255), 2)\n",
    "\n",
    "\n",
    "    cv2.imshow(\"LIVE\", img)\n",
    "\n",
    "    key = cv2.waitKey(1)\n",
    "    if key == 27:\n",
    "        break\n",
    "\n",
    "cv2.destroyAllWindows()\n",
    "source.release()"
   ]
  },
  {
   "cell_type": "code",
   "execution_count": null,
   "metadata": {
    "id": "85yU_kqUQihx"
   },
   "outputs": [],
   "source": []
  }
 ],
 "metadata": {
  "accelerator": "GPU",
  "colab": {
   "gpuType": "T4",
   "provenance": []
  },
  "kernelspec": {
   "display_name": "Python 3",
   "language": "python",
   "name": "python3"
  },
  "language_info": {
   "codemirror_mode": {
    "name": "ipython",
    "version": 3
   },
   "file_extension": ".py",
   "mimetype": "text/x-python",
   "name": "python",
   "nbconvert_exporter": "python",
   "pygments_lexer": "ipython3",
   "version": "3.7.6"
  }
 },
 "nbformat": 4,
 "nbformat_minor": 1
}
